{
 "metadata": {
  "language_info": {
   "codemirror_mode": {
    "name": "ipython",
    "version": 3
   },
   "file_extension": ".py",
   "mimetype": "text/x-python",
   "name": "python",
   "nbconvert_exporter": "python",
   "pygments_lexer": "ipython3",
   "version": "3.8.3-final"
  },
  "orig_nbformat": 2,
  "kernelspec": {
   "name": "python3",
   "display_name": "Python 3",
   "language": "python"
  }
 },
 "nbformat": 4,
 "nbformat_minor": 2,
 "cells": [
  {
   "cell_type": "code",
   "execution_count": null,
   "metadata": {},
   "outputs": [],
   "source": [
    "# Slicing\n",
    "hello = 'Hello, world!'\n",
    "\n",
    "a = hello[0]# Turn me into 'H'\n",
    "b = hello[-2]  # Turn me into 'd'\n",
    "c = hello[1:5]  # Turn me into 'ello'\n",
    "d = hello[-6:]  # Turn me into 'world!'\n",
    "e = hello[::2] # Turn me into 'Hlo ol!'\n",
    "f = hello[::-1]  # Turn me into '!dlrow ,olleH'"
   ]
  },
  {
   "cell_type": "code",
   "execution_count": 2,
   "metadata": {},
   "outputs": [],
   "source": [
    "def make_palindrome(s):\n",
    "    \"\"\"Create a palindrome with the given string as a prefix.\n",
    "    \n",
    "    A palindrome is text that reads the same forwards and backwards.\n",
    "    \n",
    "    :param s: A string to form the prefix of a new palindrome.\n",
    "    \"\"\"\n",
    "    return s + s[::-1]"
   ]
  },
  {
   "cell_type": "code",
   "execution_count": null,
   "metadata": {},
   "outputs": [],
   "source": [
    "# Manipulating Lists and Tuples\n",
    "# Write a function to produce the next layer of Pascal's triangle\n",
    "# Each layer is one larger than the previous layer, and each element in\n",
    "# the new layer is the sum of the two elements above it in the previous\n",
    "# layer. For example, `(1, 3, 3, 1) -> (1, 4, 6, 4, 1)`.\n",
    "# Hint: What does the expression `zip(row + (0,), (0,) + row)` produce?\n",
    "\n",
    "def add_layer(triangle):\n",
    "    last = triangle[-1]  \"\"\" Creates the most recent row of Pascal's triangle. \"\"\"\n",
    "    row = []  \"\"\"Builds up the next row.\"\"\"\n",
    "    for left, right in zip(last + (0,), (0,) + last):\n",
    "        row.append(left + right)\n",
    "    triangle.append(tuple(row))\n",
    "    \n",
    "pascals_triangle = [\n",
    "    (1,),\n",
    "    (1, 1),\n",
    "    (1, 2, 1),\n",
    "    (1, 3, 3, 1),\n",
    "]\n",
    "\n",
    "\n",
    "# Add a few layers, just to check.\n",
    "for _ in range(5):\n",
    "    add_layer(pascals_triangle)"
   ]
  }
 ]
}