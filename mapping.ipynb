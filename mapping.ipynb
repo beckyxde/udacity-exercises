{
 "metadata": {
  "language_info": {
   "codemirror_mode": {
    "name": "ipython",
    "version": 3
   },
   "file_extension": ".py",
   "mimetype": "text/x-python",
   "name": "python",
   "nbconvert_exporter": "python",
   "pygments_lexer": "ipython3",
   "version": 3
  },
  "orig_nbformat": 2
 },
 "nbformat": 4,
 "nbformat_minor": 2,
 "cells": [
  {
   "cell_type": "code",
   "execution_count": null,
   "metadata": {},
   "outputs": [],
   "source": [
    "\"\"\"Check whether a word is 'efficient' - if each letter can be drawn by a pencil without lifting.\"\"\"\n",
    "EFFICIENT_LETTERS = set('BCDGIJLMNOPSUVWZ')\n",
    "\n",
    "def is_efficient(letters):\n",
    "   return set(letters)"
   ]
  },
  {
   "cell_type": "code",
   "execution_count": null,
   "metadata": {},
   "outputs": [],
   "source": [
    "\"\"\"Swap the keys and values in a mapping.\"\"\"\n",
    "\n",
    "def swap_keys_and_values(d):\n",
    "    swapped = {}\n",
    "    for key, value in d.items():\n",
    "        if value not in swapped:\n",
    "            swapped[value] = set()\n",
    "        swapped[value].add(key)\n",
    "    return swapped"
   ]
  }
 ]
}