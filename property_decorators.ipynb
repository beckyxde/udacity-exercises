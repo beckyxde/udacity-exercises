{
 "metadata": {
  "language_info": {
   "codemirror_mode": {
    "name": "ipython",
    "version": 3
   },
   "file_extension": ".py",
   "mimetype": "text/x-python",
   "name": "python",
   "nbconvert_exporter": "python",
   "pygments_lexer": "ipython3",
   "version": "3.8.3-final"
  },
  "orig_nbformat": 2,
  "kernelspec": {
   "name": "python3",
   "display_name": "Python 3",
   "language": "python"
  }
 },
 "nbformat": 4,
 "nbformat_minor": 2,
 "cells": [
  {
   "cell_type": "code",
   "execution_count": 1,
   "metadata": {},
   "outputs": [],
   "source": [
    "class House:\n",
    "    PRICE_PER_SQUARE_FOOT = 2.5\n",
    "    def __init__(self, size, num_bedrooms, num_bathrooms):\n",
    "        self.size = size\n",
    "        self.beds = num_bedrooms\n",
    "        self.baths = num_bathrooms\n",
    "    @property\n",
    "    def price(self):\n",
    "        return self.size * self.PRICE_PER_SQUARE_FOOT\n",
    "    @price.setter\n",
    "    def price(self, new_price):\n",
    "        self.size = new_price / self.PRICE_PER_SQUARE_FOOT"
   ]
  }
 ]
}