{
 "metadata": {
  "language_info": {
   "codemirror_mode": {
    "name": "ipython",
    "version": 3
   },
   "file_extension": ".py",
   "mimetype": "text/x-python",
   "name": "python",
   "nbconvert_exporter": "python",
   "pygments_lexer": "ipython3",
   "version": "3.8.3-final"
  },
  "orig_nbformat": 2,
  "kernelspec": {
   "name": "python3",
   "display_name": "Python 3",
   "language": "python"
  }
 },
 "nbformat": 4,
 "nbformat_minor": 2,
 "cells": [
  {
   "cell_type": "code",
   "execution_count": 1,
   "metadata": {},
   "outputs": [
    {
     "output_type": "stream",
     "name": "stdout",
     "text": [
      "Point(4, 1)\nPoint(3, -3)\nPoint(5, 0)\n"
     ]
    }
   ],
   "source": [
    "\"\"\"Define a two-dimensional class that simultaneously acts like a number and a text \"\"\"\n",
    "\n",
    "class Point:\n",
    "    \"\"\"Return functions need to be built around the type of magic method being used\"\"\"\n",
    "    \n",
    "    def __init__(self, x = 0, y = 0):\n",
    "        self.x = x\n",
    "        self.y = y\n",
    "    def __add__(self, other):\n",
    "        return Point(self.x + other.x + self.y + other.y)\n",
    "    def __str__(self):\n",
    "        return f\"Point({self.x}, {self.y})\"\n",
    "    \n",
    "    \n",
    "\n",
    "if __name__ == '__main__':\n",
    "    \"\"\"This function only works if the Point class is implemented correctly\"\"\"\n",
    "    origin = Point()\n",
    "    point = Point(4, 1)\n",
    "    other_point = Point(3, -3)\n",
    "    third_point = point + other_point\n",
    "\n",
    "    print(point)\n",
    "    print(other_point)\n",
    "    print(third_point)"
   ]
  },
  {
   "cell_type": "code",
   "execution_count": null,
   "metadata": {},
   "outputs": [],
   "source": []
  }
 ]
}