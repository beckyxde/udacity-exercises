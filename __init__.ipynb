{
 "metadata": {
  "language_info": {
   "codemirror_mode": {
    "name": "ipython",
    "version": 3
   },
   "file_extension": ".py",
   "mimetype": "text/x-python",
   "name": "python",
   "nbconvert_exporter": "python",
   "pygments_lexer": "ipython3",
   "version": "3.8.3-final"
  },
  "orig_nbformat": 2,
  "kernelspec": {
   "name": "python3",
   "display_name": "Python 3",
   "language": "python"
  }
 },
 "nbformat": 4,
 "nbformat_minor": 2,
 "cells": [
  {
   "cell_type": "code",
   "execution_count": 2,
   "metadata": {},
   "outputs": [],
   "source": [
    "class Notebook:\n",
    "    def __init__(self, pages=200, size='a4', spacing='college'):\n",
    "        self.pages = pages\n",
    "        self.size = size\n",
    "        self.spacing = spacing\n",
    "\n",
    "journal = Notebook(80, size='letter', spacing='wide')\n",
    "# print(journal.size)\n",
    "textbook = Notebook(70)\n",
    "# print(textbook.spacing)"
   ]
  },
  {
   "cell_type": "code",
   "execution_count": null,
   "metadata": {},
   "outputs": [],
   "source": [
    "class House:\n",
    "    def __init__(self, size, color='white'):\n",
    "        self.size = size\n",
    "        self.color = color\n",
    "    def build_expansion(self, addition):\n",
    "        self.size += addition\n",
    "        \n",
    "    \n",
    "home = House(2000)\n",
    "# print(home.size)\n",
    "home.build_expansion(500)\n",
    "# print(home.size) "
   ]
  },
  {
   "cell_type": "code",
   "execution_count": null,
   "metadata": {},
   "outputs": [],
   "source": [
    "class Dog:\n",
    "    def __init__(self, name):\n",
    "        self.name = name\n",
    "        self.tricks = []\n",
    "    def teach(self, trick):\n",
    "        self.tricks.append(trick)\n",
    "\n",
    "# buddy = Dog('Buddy')\n",
    "# pascal = Dog('Pascal')\n",
    "# buddy.teach('sit')\n",
    "# pascal.teach('fetch')\n",
    "# buddy.teach('roll over')\n",
    "# print(buddy.tricks)  # {'sit', 'roll over'}\n",
    "# print(pascal.tricks)  # {'fetch'}"
   ]
  },
  {
   "cell_type": "code",
   "execution_count": null,
   "metadata": {},
   "outputs": [],
   "source": [
    "class Dog:\n",
    "    def __init__(self, name, tricks=set()):\n",
    "        self.name = name\n",
    "        self.tricks = []\n",
    "    def teach(self, trick):\n",
    "        self.tricks.append(trick)\n",
    "\n",
    "# buddy = Dog('Buddy')\n",
    "# pascal = Dog('Pascal')\n",
    "# kimber = Dog('Kimber', tricks={'lie down', 'shake'})\n",
    "# buddy.teach('sit')\n",
    "# pascal.teach('fetch')\n",
    "# buddy.teach('roll over')\n",
    "# kimber.teach('fetch')\n",
    "# print(buddy.tricks)  # {'sit', 'roll over'}\n",
    "# print(pascal.tricks)  # {'fetch'}\n",
    "# print(kimber.tricks)  # {'lie down', 'shake', 'fetch'}"
   ]
  },
  {
   "cell_type": "code",
   "execution_count": null,
   "metadata": {},
   "outputs": [],
   "source": [
    "class Customer:\n",
    "    def __init__(self, first_name, surname, tier=('free', 0)):\n",
    "        self.first_name = first_name\n",
    "        self.surname = surname\n",
    "        self._tier = tier[0]\n",
    "        self._cost = tier[1]\n",
    "\n",
    "    def bill_for(self, months):\n",
    "        return months * self._cost\n",
    "\n",
    "    def can_access(self, content):\n",
    "        return content['tier'] == 'free' or content['tier'] == self._tier\n",
    "\n",
    "    @property\n",
    "    def name(self):\n",
    "        return f\"{self.first_name} {self.surname}\"\n",
    "\n",
    "    @classmethod\n",
    "    def premium(cls, first_name, last_name):\n",
    "        return cls(first_name, last_name, tier=('premium', 10))"
   ]
  },
  {
   "cell_type": "code",
   "execution_count": null,
   "metadata": {},
   "outputs": [],
   "source": []
  }
 ]
}