{
 "metadata": {
  "language_info": {
   "codemirror_mode": {
    "name": "ipython",
    "version": 3
   },
   "file_extension": ".py",
   "mimetype": "text/x-python",
   "name": "python",
   "nbconvert_exporter": "python",
   "pygments_lexer": "ipython3",
   "version": 3
  },
  "orig_nbformat": 2
 },
 "nbformat": 4,
 "nbformat_minor": 2,
 "cells": [
  {
   "cell_type": "code",
   "execution_count": null,
   "metadata": {},
   "outputs": [],
   "source": [
    "# Practice with map\n",
    "# Fill out the rest of the map functions.\n",
    "# You can define additional functions if you need to.\n",
    "# (a) [\"apple\", \"orange\", \"pear\"] => (5, 6, 4)  (length)\n",
    "# (b) [\"apple\", \"orange\", \"pear\"] => (\"APPLE\", \"ORANGE\", \"PEAR\")  (uppercase)\n",
    "# (c) [\"apple\", \"orange\", \"pear\"] => (\"elppa\", \"egnaro\", \"raep\")  (reversed)\n",
    "# (d) [\"apple\", \"orange\", \"pear\"] => (\"ap\", \"or\", \"pe\")  (first two letters)\n",
    "\n",
    "def reverse(s):\n",
    "    return s[::-1]\n",
    "\n",
    "def first_two(s):\n",
    "    return s[:2]\n",
    "\n",
    "a = map(len, [\"apple\", \"orange\", \"pear\"])\n",
    "b = map(str.upper, [\"apple\", \"orange\", \"pear\"])\n",
    "c = map(reverse, [\"apple\", \"orange\", \"pear\"])\n",
    "d = map(first_two, [\"apple\", \"orange\", \"pear\"])"
   ]
  }
 ]
}